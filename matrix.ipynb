{
 "metadata": {
  "language_info": {
   "codemirror_mode": {
    "name": "ipython",
    "version": 3
   },
   "file_extension": ".py",
   "mimetype": "text/x-python",
   "name": "python",
   "nbconvert_exporter": "python",
   "pygments_lexer": "ipython3",
   "version": "3.8.5-final"
  },
  "orig_nbformat": 2,
  "kernelspec": {
   "name": "python38564bitf5dd8bdc386c4b4fac9675a0e455a72c",
   "display_name": "Python 3.8.5 64-bit"
  }
 },
 "nbformat": 4,
 "nbformat_minor": 2,
 "cells": [
  {
   "cell_type": "code",
   "execution_count": 81,
   "metadata": {},
   "outputs": [],
   "source": [
    "import numpy as np\n",
    "import matplotlib.pyplot as plt\n",
    "import sqlite3\n",
    "from tqdm.notebook import tqdm\n",
    "from datetime import datetime\n",
    "from random import choice\n",
    "from glob import glob\n",
    "## gmplot - dependency to create geoplot\n",
    "import gmplot"
   ]
  },
  {
   "cell_type": "code",
   "execution_count": 132,
   "metadata": {},
   "outputs": [],
   "source": [
    "files = glob(\"input/feed/bus_movements_2019_07_07.db\")\n",
    "db = sqlite3.connect(files[0])\n",
    "speed_data = db.execute(\"Select speed, timestamp, route_id, trip_id, lat, lng from vehicle_feed where route_id=427\")"
   ]
  },
  {
   "cell_type": "code",
   "execution_count": 34,
   "metadata": {},
   "outputs": [],
   "source": [
    "to_radian = lambda x : x/57.29577951\n",
    "\n",
    "def haversine_dist(lat1, lon1, lat2, lon2):\n",
    "    lat1 = to_radian(lat1)\n",
    "    lon = to_radian(lon1) - to_radian(lon2)\n",
    "    lat2 = to_radian(lat2)\n",
    "    a = np.sin((lat1-lat2) / 2)**2 + np.cos(lat1) * np.cos(lat2) * np.sin(lon / 2)**2\n",
    "    c = 2*np.arcsin(np.sqrt(a))\n",
    "\n",
    "    return 6373.0 * c * 1000"
   ]
  },
  {
   "cell_type": "code",
   "execution_count": 106,
   "metadata": {
    "tags": []
   },
   "outputs": [
    {
     "output_type": "display_data",
     "data": {
      "text/plain": "HBox(children=(FloatProgress(value=1.0, bar_style='info', layout=Layout(width='20px'), max=1.0), HTML(value=''…",
      "application/vnd.jupyter.widget-view+json": {
       "version_major": 2,
       "version_minor": 0,
       "model_id": "22a500c39c6b4feaa371c73f9d4c9d49"
      }
     },
     "metadata": {}
    },
    {
     "output_type": "stream",
     "name": "stdout",
     "text": "\n"
    }
   ],
   "source": [
    "tree = {}\n",
    "count = 0\n",
    "for e in tqdm(speed_data):\n",
    "    if int(e[2]) not in tree:\n",
    "        tree[int(e[2])]  = {}\n",
    "    if e[3] not in tree[int(e[2])]:\n",
    "        tree[int(e[2])][e[3]]  = {}\n",
    "    \n",
    "    if int(e[1]) not in tree[int(e[2])][e[3]]:\n",
    "        tree[int(e[2])][e[3]][int(e[1])] = np.array([e[0], e[-2], e[-1]]).astype(float)"
   ]
  },
  {
   "cell_type": "code",
   "execution_count": 107,
   "metadata": {},
   "outputs": [
    {
     "output_type": "execute_result",
     "data": {
      "text/plain": "dict_keys([427])"
     },
     "metadata": {},
     "execution_count": 107
    }
   ],
   "source": [
    "tree.keys()"
   ]
  },
  {
   "cell_type": "code",
   "execution_count": 85,
   "metadata": {},
   "outputs": [],
   "source": [
    "stops_data = dict()\n",
    "i = 0\n",
    "for e in open(\"input/static/stops.txt\").read().split(\"\\n\")[1:-1]:\n",
    "    split = e.split(\",\")\n",
    "    stops_data[int(split[0])] = (float(split[-2]), float(split[-1]), split[0], split[1], i)\n",
    "    i+=1\n",
    "# stops_data = np.array([e.split(\",\")[-2:] for e in  open(\"input/stops.txt\").read().split(\"\\n\")[1:-1]]).astype(np.float32)"
   ]
  },
  {
   "cell_type": "code",
   "execution_count": 86,
   "metadata": {},
   "outputs": [],
   "source": [
    "trips_data = dict()\n",
    "for e in open(\"input/static/stop_times.txt\").read().split(\"\\n\")[1:-1]:\n",
    "    split = e.split(\",\")\n",
    "    trip_id = split[0]\n",
    "    if trip_id not in trips_data:\n",
    "        trips_data[trip_id] = []\n",
    "    trips_data[trip_id].append((int(split[3]), int(split[-1])))"
   ]
  },
  {
   "cell_type": "code",
   "execution_count": 87,
   "metadata": {},
   "outputs": [],
   "source": [
    "routes_data = dict()\n",
    "for e in open(\"input/static/trips.txt\").read().split(\"\\n\")[1:-1]:\n",
    "    split = e.split(\",\")\n",
    "    route_id = int(split[0])\n",
    "    trip_id = split[2]\n",
    "    if route_id not in routes_data:\n",
    "        routes_data[route_id] = np.array(sorted(trips_data[trip_id], key=lambda e:e[1]))[:, 0]"
   ]
  },
  {
   "cell_type": "code",
   "execution_count": 108,
   "metadata": {
    "tags": []
   },
   "outputs": [
    {
     "output_type": "display_data",
     "data": {
      "text/plain": "HBox(children=(FloatProgress(value=0.0, max=59.0), HTML(value='')))",
      "application/vnd.jupyter.widget-view+json": {
       "version_major": 2,
       "version_minor": 0,
       "model_id": "b01515d638ad4588ba90148e9239f055"
      }
     },
     "metadata": {}
    },
    {
     "output_type": "stream",
     "name": "stdout",
     "text": "\n"
    }
   ],
   "source": [
    "stop_tree = {}\n",
    "for route_id in tree:\n",
    "    stop_tree[route_id] = {}\n",
    "    for trip_id in tqdm(tree[route_id]):\n",
    "        stop_tree[route_id][trip_id] = [None]*len(routes_data[route_id])\n",
    "\n",
    "        time_stamps = sorted(tree[route_id][trip_id].keys())\n",
    "        stop_id = 0\n",
    "        for each_click in time_stamps:\n",
    "            prev_distance = haversine_dist(stops_data[routes_data[route_id][stop_id]][0], stops_data[routes_data[route_id][stop_id]][1],\n",
    "                                           tree[route_id][trip_id][each_click][1], tree[route_id][trip_id][each_click][2])\n",
    "            \n",
    "            for each_stop in range(stop_id+1, len(routes_data[route_id])):\n",
    "                cur_distance = haversine_dist(stops_data[routes_data[route_id][each_stop]][0], stops_data[routes_data[route_id][each_stop]][1],\n",
    "                                              tree[route_id][trip_id][each_click][1], tree[route_id][trip_id][each_click][2])\n",
    "                if cur_distance < prev_distance:\n",
    "                    prev_distance = cur_distance\n",
    "                    stop_id = each_stop\n",
    "                else:\n",
    "                    break\n",
    "            \n",
    "            if prev_distance < 150:\n",
    "                if stop_tree[route_id][trip_id][stop_id] == None:\n",
    "                    stop_tree[route_id][trip_id][stop_id] = []\n",
    "                stop_tree[route_id][trip_id][stop_id].append((each_click, prev_distance, cur_distance))"
   ]
  },
  {
   "cell_type": "code",
   "execution_count": 109,
   "metadata": {},
   "outputs": [
    {
     "output_type": "execute_result",
     "data": {
      "text/plain": "dict_keys([427])"
     },
     "metadata": {},
     "execution_count": 109
    }
   ],
   "source": [
    "tree.keys()"
   ]
  },
  {
   "cell_type": "code",
   "execution_count": 89,
   "metadata": {},
   "outputs": [
    {
     "output_type": "error",
     "ename": "KeyError",
     "evalue": "426",
     "traceback": [
      "\u001b[0;31m---------------------------------------------------------------------------\u001b[0m",
      "\u001b[0;31mKeyError\u001b[0m                                  Traceback (most recent call last)",
      "\u001b[0;32m<ipython-input-89-f6b29024517e>\u001b[0m in \u001b[0;36m<module>\u001b[0;34m\u001b[0m\n\u001b[1;32m      8\u001b[0m \u001b[0mgmap3\u001b[0m \u001b[0;34m=\u001b[0m \u001b[0mgmplot\u001b[0m\u001b[0;34m.\u001b[0m\u001b[0mGoogleMapPlotter\u001b[0m\u001b[0;34m(\u001b[0m\u001b[0mlat\u001b[0m \u001b[0;34m=\u001b[0m \u001b[0mstops_data\u001b[0m\u001b[0;34m[\u001b[0m\u001b[0mroutes_data\u001b[0m\u001b[0;34m[\u001b[0m\u001b[0;36m426\u001b[0m\u001b[0;34m]\u001b[0m\u001b[0;34m[\u001b[0m\u001b[0;36m0\u001b[0m\u001b[0;34m]\u001b[0m\u001b[0;34m]\u001b[0m\u001b[0;34m[\u001b[0m\u001b[0;36m0\u001b[0m\u001b[0;34m]\u001b[0m\u001b[0;34m,\u001b[0m \u001b[0mlng\u001b[0m \u001b[0;34m=\u001b[0m \u001b[0mstops_data\u001b[0m\u001b[0;34m[\u001b[0m\u001b[0mroutes_data\u001b[0m\u001b[0;34m[\u001b[0m\u001b[0;36m426\u001b[0m\u001b[0;34m]\u001b[0m\u001b[0;34m[\u001b[0m\u001b[0;36m0\u001b[0m\u001b[0;34m]\u001b[0m\u001b[0;34m]\u001b[0m\u001b[0;34m[\u001b[0m\u001b[0;36m1\u001b[0m\u001b[0;34m]\u001b[0m\u001b[0;34m,\u001b[0m \u001b[0mzoom\u001b[0m\u001b[0;34m=\u001b[0m\u001b[0;36m15\u001b[0m\u001b[0;34m)\u001b[0m\u001b[0;34m\u001b[0m\u001b[0;34m\u001b[0m\u001b[0m\n\u001b[1;32m      9\u001b[0m \u001b[0;34m\u001b[0m\u001b[0m\n\u001b[0;32m---> 10\u001b[0;31m \u001b[0mpoints\u001b[0m \u001b[0;34m=\u001b[0m \u001b[0mstop_tree\u001b[0m\u001b[0;34m[\u001b[0m\u001b[0;36m426\u001b[0m\u001b[0;34m]\u001b[0m\u001b[0;34m[\u001b[0m\u001b[0;34m'12298'\u001b[0m\u001b[0;34m]\u001b[0m\u001b[0;34m[\u001b[0m\u001b[0;36m0\u001b[0m\u001b[0;34m]\u001b[0m\u001b[0;34m\u001b[0m\u001b[0;34m\u001b[0m\u001b[0m\n\u001b[0m\u001b[1;32m     11\u001b[0m gmap3.marker(stops_data[routes_data[426][0]][0], stops_data[routes_data[426][0]][1], color=\"green\",\n\u001b[1;32m     12\u001b[0m         title=\"time spend : {} seconds, initial distance : {}, final distance: {}, final difference : {}\".format(\n",
      "\u001b[0;31mKeyError\u001b[0m: 426"
     ]
    }
   ],
   "source": [
    "# cd = []\n",
    "# trip_id = \"12313\"\n",
    "# time_stamps = sorted(tree[route_id][trip_id].keys())\n",
    "# for each_click in time_stamps:\n",
    "#     cd.append(tree[route_id][trip_id][each_click][1:])\n",
    "# cd = np.array(cd)\n",
    "\n",
    "gmap3 = gmplot.GoogleMapPlotter(lat = stops_data[routes_data[426][0]][0], lng = stops_data[routes_data[426][0]][1], zoom=15)\n",
    "\n",
    "points = stop_tree[426]['12298'][0]\n",
    "gmap3.marker(stops_data[routes_data[426][0]][0], stops_data[routes_data[426][0]][1], color=\"green\",\n",
    "        title=\"time spend : {} seconds, initial distance : {}, final distance: {}, final difference : {}\".format(\n",
    "                    (points[-1][0] - points[0][0]), np.round(points[0][1], 2),\n",
    "                    np.round(points[-1][1], 2), np.round(points[-1][2], 2)))\n",
    "\n",
    "for e in range(1, len(routes_data[426])-1):\n",
    "    points = stop_tree[426]['12298'][e]\n",
    "    if points is not None:\n",
    "        gmap3.marker(stops_data[routes_data[426][e]][0], stops_data[routes_data[426][e]][1], color=\"blue\",\n",
    "            title=\"time spend : {} seconds, initial distance : {}, final distance: {}, final difference : {}\".format(\n",
    "                        (points[-1][0] - points[0][0]), np.round(points[0][1], 2),\n",
    "                        np.round(points[-1][1], 2), np.round(points[-1][2], 2)))\n",
    "    else:\n",
    "        gmap3.marker(stops_data[routes_data[426][e]][0], stops_data[routes_data[426][e]][1], color=\"pink\",\n",
    "                    title=\"Not found\")\n",
    "\n",
    "points = stop_tree[426]['12298'][-1]\n",
    "\n",
    "if points is not None:\n",
    "    gmap3.marker(stops_data[routes_data[426][-1]][0], stops_data[routes_data[426][-1]][1], color=\"red\",\n",
    "            title=\"time spend : {} seconds, initial distance : {}, final distance: {}, final difference : {}\".format(\n",
    "                        (points[-1][0] - points[0][0]), np.round(points[0][1], 2),\n",
    "                        np.round(points[-1][1], 2), np.round(points[-1][2], 2)))\n",
    "else:\n",
    "    gmap3.marker(stops_data[routes_data[426][-1]][0], stops_data[routes_data[426][-1]][1], color=\"yellow\",\n",
    "                    title=\"Not found\")\n",
    "\n",
    "\n",
    "\n",
    "gmap3.draw( \"output/map.html\" )"
   ]
  },
  {
   "cell_type": "code",
   "execution_count": 138,
   "metadata": {
    "tags": []
   },
   "outputs": [],
   "source": []
  },
  {
   "cell_type": "code",
   "execution_count": 125,
   "metadata": {},
   "outputs": [],
   "source": [
    "dictionary = {}"
   ]
  },
  {
   "cell_type": "code",
   "execution_count": 126,
   "metadata": {},
   "outputs": [],
   "source": [
    "count = 0\n",
    "for s1 in routes_data[route_id]:\n",
    "    for s2 in routes_data[route_id]:\n",
    "        dictionary[s1*58+s2] = count\n",
    "        count += 1 \n"
   ]
  },
  {
   "cell_type": "code",
   "execution_count": 128,
   "metadata": {},
   "outputs": [
    {
     "output_type": "execute_result",
     "data": {
      "text/plain": "3339"
     },
     "metadata": {},
     "execution_count": 128
    }
   ],
   "source": [
    "matrix = np.zeros([58, 144])\n",
    "times = []\n",
    "count = 0\n",
    "for route_id in stop_tree:\n",
    "    stops = routes_data[route_id]\n",
    "    for each_trip in stop_tree[route_id]:\n",
    "\n",
    "        for start_stop in range(len(stops)-1):\n",
    "            if stop_tree[route_id][each_trip][start_stop] == None or :\n",
    "                continue\n",
    "\n",
    "            start_time = ((stop_tree[route_id][each_trip][start_stop][0][0] + stop_tree[route_id][each_trip][start_stop][-1][0])//2 - start_date)//600\n",
    "            if start_time < 0:\n",
    "                continue\n",
    "            \n",
    "            for end_stop in range(start_stop+1, len(stops)):\n",
    "                if stop_tree[route_id][each_trip][end_stop] == None:\n",
    "                    continue\n",
    "                end_time = ((stop_tree[route_id][each_trip][end_stop][0][0] + stop_tree[route_id][each_trip][end_stop][-1][0])//2 - start_date)//600\n",
    "\n",
    "                if (end_time - start_time > 10):\n",
    "                        continue\n",
    "                \n",
    "                matrix[58*start_stop + end_stop, start_time] = (end_time-start_time)"
   ]
  },
  {
   "cell_type": "code",
   "execution_count": 91,
   "metadata": {},
   "outputs": [],
   "source": [
    "start_date = 1562437800"
   ]
  },
  {
   "cell_type": "code",
   "execution_count": 176,
   "metadata": {
    "tags": []
   },
   "outputs": [],
   "source": [
    "matrix = np.full([58, 144], fill_value=-1).astype(np.float32)\n",
    "times = []\n",
    "count = 0\n",
    "for route_id in stop_tree:\n",
    "    stops = routes_data[route_id]\n",
    "    for each_trip in stop_tree[route_id]:\n",
    "\n",
    "        for start_stop in range(len(stops)-1):\n",
    "            if stop_tree[route_id][each_trip][start_stop] == None or stop_tree[route_id][each_trip][start_stop+1] == None:\n",
    "                continue\n",
    "            start_time = ((stop_tree[route_id][each_trip][start_stop][0][0] \n",
    "                            +stop_tree[route_id][each_trip][start_stop][-1][0])//2\n",
    "                          - start_date)\n",
    "            if start_time < 0:\n",
    "                continue\n",
    "            \n",
    "            end_time = ((stop_tree[route_id][each_trip][start_stop+1][0][0] \n",
    "                            +stop_tree[route_id][each_trip][start_stop+1][-1][0])//2\n",
    "                          - start_date)\n",
    "\n",
    "            matrix[start_stop, start_time//600] = float(end_time - start_time)/60"
   ]
  },
  {
   "cell_type": "code",
   "execution_count": 177,
   "metadata": {},
   "outputs": [
    {
     "output_type": "execute_result",
     "data": {
      "text/plain": "<matplotlib.image.AxesImage at 0x11ef382e0>"
     },
     "metadata": {},
     "execution_count": 177
    },
    {
     "output_type": "display_data",
     "data": {
      "text/plain": "<Figure size 432x288 with 1 Axes>",
      "image/svg+xml": "<?xml version=\"1.0\" encoding=\"utf-8\" standalone=\"no\"?>\n<!DOCTYPE svg PUBLIC \"-//W3C//DTD SVG 1.1//EN\"\n  \"http://www.w3.org/Graphics/SVG/1.1/DTD/svg11.dtd\">\n<!-- Created with matplotlib (https://matplotlib.org/) -->\n<svg height=\"250.442861pt\" version=\"1.1\" viewBox=\"0 0 370.33125 250.442861\" width=\"370.33125pt\" xmlns=\"http://www.w3.org/2000/svg\" xmlns:xlink=\"http://www.w3.org/1999/xlink\">\n <metadata>\n  <rdf:RDF xmlns:cc=\"http://creativecommons.org/ns#\" xmlns:dc=\"http://purl.org/dc/elements/1.1/\" xmlns:rdf=\"http://www.w3.org/1999/02/22-rdf-syntax-ns#\">\n   <cc:Work>\n    <dc:type rdf:resource=\"http://purl.org/dc/dcmitype/StillImage\"/>\n    <dc:date>2020-09-22T15:45:56.238414</dc:date>\n    <dc:format>image/svg+xml</dc:format>\n    <dc:creator>\n     <cc:Agent>\n      <dc:title>Matplotlib v3.3.1, https://matplotlib.org/</dc:title>\n     </cc:Agent>\n    </dc:creator>\n   </cc:Work>\n  </rdf:RDF>\n </metadata>\n <defs>\n  <style type=\"text/css\">*{stroke-linecap:butt;stroke-linejoin:round;}</style>\n </defs>\n <g id=\"figure_1\">\n  <g id=\"patch_1\">\n   <path d=\"M -0 250.442861 \nL 370.33125 250.442861 \nL 370.33125 0 \nL -0 0 \nz\n\"/>\n  </g>\n  <g id=\"axes_1\">\n   <g id=\"patch_2\">\n    <path d=\"M 26.925 226.564736 \nL 361.725 226.564736 \nL 361.725 9.124736 \nL 26.925 9.124736 \nz\n\"/>\n   </g>\n   <g clip-path=\"url(#p376972bcbd)\">\n    <image height=\"218\" id=\"image0eeaff554b\" transform=\"scale(1 -1)translate(0 -218)\" width=\"335\" x=\"26.925\" xlink:href=\"data:image/png;base64,\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\" y=\"-8.564736\"/>\n   </g>\n   <g id=\"matplotlib.axis_1\">\n    <g id=\"xtick_1\">\n     <g id=\"line2d_1\">\n      <defs>\n       <path d=\"M 0 0 \nL 0 3.5 \n\" id=\"m423c904242\" style=\"stroke:#ffffff;stroke-width:0.8;\"/>\n      </defs>\n      <g>\n       <use style=\"fill:#ffffff;stroke:#ffffff;stroke-width:0.8;\" x=\"28.0875\" xlink:href=\"#m423c904242\" y=\"226.564736\"/>\n      </g>\n     </g>\n     <g id=\"text_1\">\n      <!-- 0 -->\n      <g style=\"fill:#ffffff;\" transform=\"translate(24.90625 241.163173)scale(0.1 -0.1)\">\n       <defs>\n        <path d=\"M 31.78125 66.40625 \nQ 24.171875 66.40625 20.328125 58.90625 \nQ 16.5 51.421875 16.5 36.375 \nQ 16.5 21.390625 20.328125 13.890625 \nQ 24.171875 6.390625 31.78125 6.390625 \nQ 39.453125 6.390625 43.28125 13.890625 \nQ 47.125 21.390625 47.125 36.375 \nQ 47.125 51.421875 43.28125 58.90625 \nQ 39.453125 66.40625 31.78125 66.40625 \nz\nM 31.78125 74.21875 \nQ 44.046875 74.21875 50.515625 64.515625 \nQ 56.984375 54.828125 56.984375 36.375 \nQ 56.984375 17.96875 50.515625 8.265625 \nQ 44.046875 -1.421875 31.78125 -1.421875 \nQ 19.53125 -1.421875 13.0625 8.265625 \nQ 6.59375 17.96875 6.59375 36.375 \nQ 6.59375 54.828125 13.0625 64.515625 \nQ 19.53125 74.21875 31.78125 74.21875 \nz\n\" id=\"DejaVuSans-48\"/>\n       </defs>\n       <use xlink:href=\"#DejaVuSans-48\"/>\n      </g>\n     </g>\n    </g>\n    <g id=\"xtick_2\">\n     <g id=\"line2d_2\">\n      <g>\n       <use style=\"fill:#ffffff;stroke:#ffffff;stroke-width:0.8;\" x=\"74.5875\" xlink:href=\"#m423c904242\" y=\"226.564736\"/>\n      </g>\n     </g>\n     <g id=\"text_2\">\n      <!-- 20 -->\n      <g style=\"fill:#ffffff;\" transform=\"translate(68.225 241.163173)scale(0.1 -0.1)\">\n       <defs>\n        <path d=\"M 19.1875 8.296875 \nL 53.609375 8.296875 \nL 53.609375 0 \nL 7.328125 0 \nL 7.328125 8.296875 \nQ 12.9375 14.109375 22.625 23.890625 \nQ 32.328125 33.6875 34.8125 36.53125 \nQ 39.546875 41.84375 41.421875 45.53125 \nQ 43.3125 49.21875 43.3125 52.78125 \nQ 43.3125 58.59375 39.234375 62.25 \nQ 35.15625 65.921875 28.609375 65.921875 \nQ 23.96875 65.921875 18.8125 64.3125 \nQ 13.671875 62.703125 7.8125 59.421875 \nL 7.8125 69.390625 \nQ 13.765625 71.78125 18.9375 73 \nQ 24.125 74.21875 28.421875 74.21875 \nQ 39.75 74.21875 46.484375 68.546875 \nQ 53.21875 62.890625 53.21875 53.421875 \nQ 53.21875 48.921875 51.53125 44.890625 \nQ 49.859375 40.875 45.40625 35.40625 \nQ 44.1875 33.984375 37.640625 27.21875 \nQ 31.109375 20.453125 19.1875 8.296875 \nz\n\" id=\"DejaVuSans-50\"/>\n       </defs>\n       <use xlink:href=\"#DejaVuSans-50\"/>\n       <use x=\"63.623047\" xlink:href=\"#DejaVuSans-48\"/>\n      </g>\n     </g>\n    </g>\n    <g id=\"xtick_3\">\n     <g id=\"line2d_3\">\n      <g>\n       <use style=\"fill:#ffffff;stroke:#ffffff;stroke-width:0.8;\" x=\"121.0875\" xlink:href=\"#m423c904242\" y=\"226.564736\"/>\n      </g>\n     </g>\n     <g id=\"text_3\">\n      <!-- 40 -->\n      <g style=\"fill:#ffffff;\" transform=\"translate(114.725 241.163173)scale(0.1 -0.1)\">\n       <defs>\n        <path d=\"M 37.796875 64.3125 \nL 12.890625 25.390625 \nL 37.796875 25.390625 \nz\nM 35.203125 72.90625 \nL 47.609375 72.90625 \nL 47.609375 25.390625 \nL 58.015625 25.390625 \nL 58.015625 17.1875 \nL 47.609375 17.1875 \nL 47.609375 0 \nL 37.796875 0 \nL 37.796875 17.1875 \nL 4.890625 17.1875 \nL 4.890625 26.703125 \nz\n\" id=\"DejaVuSans-52\"/>\n       </defs>\n       <use xlink:href=\"#DejaVuSans-52\"/>\n       <use x=\"63.623047\" xlink:href=\"#DejaVuSans-48\"/>\n      </g>\n     </g>\n    </g>\n    <g id=\"xtick_4\">\n     <g id=\"line2d_4\">\n      <g>\n       <use style=\"fill:#ffffff;stroke:#ffffff;stroke-width:0.8;\" x=\"167.5875\" xlink:href=\"#m423c904242\" y=\"226.564736\"/>\n      </g>\n     </g>\n     <g id=\"text_4\">\n      <!-- 60 -->\n      <g style=\"fill:#ffffff;\" transform=\"translate(161.225 241.163173)scale(0.1 -0.1)\">\n       <defs>\n        <path d=\"M 33.015625 40.375 \nQ 26.375 40.375 22.484375 35.828125 \nQ 18.609375 31.296875 18.609375 23.390625 \nQ 18.609375 15.53125 22.484375 10.953125 \nQ 26.375 6.390625 33.015625 6.390625 \nQ 39.65625 6.390625 43.53125 10.953125 \nQ 47.40625 15.53125 47.40625 23.390625 \nQ 47.40625 31.296875 43.53125 35.828125 \nQ 39.65625 40.375 33.015625 40.375 \nz\nM 52.59375 71.296875 \nL 52.59375 62.3125 \nQ 48.875 64.0625 45.09375 64.984375 \nQ 41.3125 65.921875 37.59375 65.921875 \nQ 27.828125 65.921875 22.671875 59.328125 \nQ 17.53125 52.734375 16.796875 39.40625 \nQ 19.671875 43.65625 24.015625 45.921875 \nQ 28.375 48.1875 33.59375 48.1875 \nQ 44.578125 48.1875 50.953125 41.515625 \nQ 57.328125 34.859375 57.328125 23.390625 \nQ 57.328125 12.15625 50.6875 5.359375 \nQ 44.046875 -1.421875 33.015625 -1.421875 \nQ 20.359375 -1.421875 13.671875 8.265625 \nQ 6.984375 17.96875 6.984375 36.375 \nQ 6.984375 53.65625 15.1875 63.9375 \nQ 23.390625 74.21875 37.203125 74.21875 \nQ 40.921875 74.21875 44.703125 73.484375 \nQ 48.484375 72.75 52.59375 71.296875 \nz\n\" id=\"DejaVuSans-54\"/>\n       </defs>\n       <use xlink:href=\"#DejaVuSans-54\"/>\n       <use x=\"63.623047\" xlink:href=\"#DejaVuSans-48\"/>\n      </g>\n     </g>\n    </g>\n    <g id=\"xtick_5\">\n     <g id=\"line2d_5\">\n      <g>\n       <use style=\"fill:#ffffff;stroke:#ffffff;stroke-width:0.8;\" x=\"214.0875\" xlink:href=\"#m423c904242\" y=\"226.564736\"/>\n      </g>\n     </g>\n     <g id=\"text_5\">\n      <!-- 80 -->\n      <g style=\"fill:#ffffff;\" transform=\"translate(207.725 241.163173)scale(0.1 -0.1)\">\n       <defs>\n        <path d=\"M 31.78125 34.625 \nQ 24.75 34.625 20.71875 30.859375 \nQ 16.703125 27.09375 16.703125 20.515625 \nQ 16.703125 13.921875 20.71875 10.15625 \nQ 24.75 6.390625 31.78125 6.390625 \nQ 38.8125 6.390625 42.859375 10.171875 \nQ 46.921875 13.96875 46.921875 20.515625 \nQ 46.921875 27.09375 42.890625 30.859375 \nQ 38.875 34.625 31.78125 34.625 \nz\nM 21.921875 38.8125 \nQ 15.578125 40.375 12.03125 44.71875 \nQ 8.5 49.078125 8.5 55.328125 \nQ 8.5 64.0625 14.71875 69.140625 \nQ 20.953125 74.21875 31.78125 74.21875 \nQ 42.671875 74.21875 48.875 69.140625 \nQ 55.078125 64.0625 55.078125 55.328125 \nQ 55.078125 49.078125 51.53125 44.71875 \nQ 48 40.375 41.703125 38.8125 \nQ 48.828125 37.15625 52.796875 32.3125 \nQ 56.78125 27.484375 56.78125 20.515625 \nQ 56.78125 9.90625 50.3125 4.234375 \nQ 43.84375 -1.421875 31.78125 -1.421875 \nQ 19.734375 -1.421875 13.25 4.234375 \nQ 6.78125 9.90625 6.78125 20.515625 \nQ 6.78125 27.484375 10.78125 32.3125 \nQ 14.796875 37.15625 21.921875 38.8125 \nz\nM 18.3125 54.390625 \nQ 18.3125 48.734375 21.84375 45.5625 \nQ 25.390625 42.390625 31.78125 42.390625 \nQ 38.140625 42.390625 41.71875 45.5625 \nQ 45.3125 48.734375 45.3125 54.390625 \nQ 45.3125 60.0625 41.71875 63.234375 \nQ 38.140625 66.40625 31.78125 66.40625 \nQ 25.390625 66.40625 21.84375 63.234375 \nQ 18.3125 60.0625 18.3125 54.390625 \nz\n\" id=\"DejaVuSans-56\"/>\n       </defs>\n       <use xlink:href=\"#DejaVuSans-56\"/>\n       <use x=\"63.623047\" xlink:href=\"#DejaVuSans-48\"/>\n      </g>\n     </g>\n    </g>\n    <g id=\"xtick_6\">\n     <g id=\"line2d_6\">\n      <g>\n       <use style=\"fill:#ffffff;stroke:#ffffff;stroke-width:0.8;\" x=\"260.5875\" xlink:href=\"#m423c904242\" y=\"226.564736\"/>\n      </g>\n     </g>\n     <g id=\"text_6\">\n      <!-- 100 -->\n      <g style=\"fill:#ffffff;\" transform=\"translate(251.04375 241.163173)scale(0.1 -0.1)\">\n       <defs>\n        <path d=\"M 12.40625 8.296875 \nL 28.515625 8.296875 \nL 28.515625 63.921875 \nL 10.984375 60.40625 \nL 10.984375 69.390625 \nL 28.421875 72.90625 \nL 38.28125 72.90625 \nL 38.28125 8.296875 \nL 54.390625 8.296875 \nL 54.390625 0 \nL 12.40625 0 \nz\n\" id=\"DejaVuSans-49\"/>\n       </defs>\n       <use xlink:href=\"#DejaVuSans-49\"/>\n       <use x=\"63.623047\" xlink:href=\"#DejaVuSans-48\"/>\n       <use x=\"127.246094\" xlink:href=\"#DejaVuSans-48\"/>\n      </g>\n     </g>\n    </g>\n    <g id=\"xtick_7\">\n     <g id=\"line2d_7\">\n      <g>\n       <use style=\"fill:#ffffff;stroke:#ffffff;stroke-width:0.8;\" x=\"307.0875\" xlink:href=\"#m423c904242\" y=\"226.564736\"/>\n      </g>\n     </g>\n     <g id=\"text_7\">\n      <!-- 120 -->\n      <g style=\"fill:#ffffff;\" transform=\"translate(297.54375 241.163173)scale(0.1 -0.1)\">\n       <use xlink:href=\"#DejaVuSans-49\"/>\n       <use x=\"63.623047\" xlink:href=\"#DejaVuSans-50\"/>\n       <use x=\"127.246094\" xlink:href=\"#DejaVuSans-48\"/>\n      </g>\n     </g>\n    </g>\n    <g id=\"xtick_8\">\n     <g id=\"line2d_8\">\n      <g>\n       <use style=\"fill:#ffffff;stroke:#ffffff;stroke-width:0.8;\" x=\"353.5875\" xlink:href=\"#m423c904242\" y=\"226.564736\"/>\n      </g>\n     </g>\n     <g id=\"text_8\">\n      <!-- 140 -->\n      <g style=\"fill:#ffffff;\" transform=\"translate(344.04375 241.163173)scale(0.1 -0.1)\">\n       <use xlink:href=\"#DejaVuSans-49\"/>\n       <use x=\"63.623047\" xlink:href=\"#DejaVuSans-52\"/>\n       <use x=\"127.246094\" xlink:href=\"#DejaVuSans-48\"/>\n      </g>\n     </g>\n    </g>\n   </g>\n   <g id=\"matplotlib.axis_2\">\n    <g id=\"ytick_1\">\n     <g id=\"line2d_9\">\n      <defs>\n       <path d=\"M 0 0 \nL -3.5 0 \n\" id=\"m2452d53fd0\" style=\"stroke:#ffffff;stroke-width:0.8;\"/>\n      </defs>\n      <g>\n       <use style=\"fill:#ffffff;stroke:#ffffff;stroke-width:0.8;\" x=\"26.925\" xlink:href=\"#m2452d53fd0\" y=\"10.999219\"/>\n      </g>\n     </g>\n     <g id=\"text_9\">\n      <!-- 0 -->\n      <g style=\"fill:#ffffff;\" transform=\"translate(13.5625 14.798437)scale(0.1 -0.1)\">\n       <use xlink:href=\"#DejaVuSans-48\"/>\n      </g>\n     </g>\n    </g>\n    <g id=\"ytick_2\">\n     <g id=\"line2d_10\">\n      <g>\n       <use style=\"fill:#ffffff;stroke:#ffffff;stroke-width:0.8;\" x=\"26.925\" xlink:href=\"#m2452d53fd0\" y=\"48.488874\"/>\n      </g>\n     </g>\n     <g id=\"text_10\">\n      <!-- 10 -->\n      <g style=\"fill:#ffffff;\" transform=\"translate(7.2 52.288093)scale(0.1 -0.1)\">\n       <use xlink:href=\"#DejaVuSans-49\"/>\n       <use x=\"63.623047\" xlink:href=\"#DejaVuSans-48\"/>\n      </g>\n     </g>\n    </g>\n    <g id=\"ytick_3\">\n     <g id=\"line2d_11\">\n      <g>\n       <use style=\"fill:#ffffff;stroke:#ffffff;stroke-width:0.8;\" x=\"26.925\" xlink:href=\"#m2452d53fd0\" y=\"85.978529\"/>\n      </g>\n     </g>\n     <g id=\"text_11\">\n      <!-- 20 -->\n      <g style=\"fill:#ffffff;\" transform=\"translate(7.2 89.777748)scale(0.1 -0.1)\">\n       <use xlink:href=\"#DejaVuSans-50\"/>\n       <use x=\"63.623047\" xlink:href=\"#DejaVuSans-48\"/>\n      </g>\n     </g>\n    </g>\n    <g id=\"ytick_4\">\n     <g id=\"line2d_12\">\n      <g>\n       <use style=\"fill:#ffffff;stroke:#ffffff;stroke-width:0.8;\" x=\"26.925\" xlink:href=\"#m2452d53fd0\" y=\"123.468184\"/>\n      </g>\n     </g>\n     <g id=\"text_12\">\n      <!-- 30 -->\n      <g style=\"fill:#ffffff;\" transform=\"translate(7.2 127.267403)scale(0.1 -0.1)\">\n       <defs>\n        <path d=\"M 40.578125 39.3125 \nQ 47.65625 37.796875 51.625 33 \nQ 55.609375 28.21875 55.609375 21.1875 \nQ 55.609375 10.40625 48.1875 4.484375 \nQ 40.765625 -1.421875 27.09375 -1.421875 \nQ 22.515625 -1.421875 17.65625 -0.515625 \nQ 12.796875 0.390625 7.625 2.203125 \nL 7.625 11.71875 \nQ 11.71875 9.328125 16.59375 8.109375 \nQ 21.484375 6.890625 26.8125 6.890625 \nQ 36.078125 6.890625 40.9375 10.546875 \nQ 45.796875 14.203125 45.796875 21.1875 \nQ 45.796875 27.640625 41.28125 31.265625 \nQ 36.765625 34.90625 28.71875 34.90625 \nL 20.21875 34.90625 \nL 20.21875 43.015625 \nL 29.109375 43.015625 \nQ 36.375 43.015625 40.234375 45.921875 \nQ 44.09375 48.828125 44.09375 54.296875 \nQ 44.09375 59.90625 40.109375 62.90625 \nQ 36.140625 65.921875 28.71875 65.921875 \nQ 24.65625 65.921875 20.015625 65.03125 \nQ 15.375 64.15625 9.8125 62.3125 \nL 9.8125 71.09375 \nQ 15.4375 72.65625 20.34375 73.4375 \nQ 25.25 74.21875 29.59375 74.21875 \nQ 40.828125 74.21875 47.359375 69.109375 \nQ 53.90625 64.015625 53.90625 55.328125 \nQ 53.90625 49.265625 50.4375 45.09375 \nQ 46.96875 40.921875 40.578125 39.3125 \nz\n\" id=\"DejaVuSans-51\"/>\n       </defs>\n       <use xlink:href=\"#DejaVuSans-51\"/>\n       <use x=\"63.623047\" xlink:href=\"#DejaVuSans-48\"/>\n      </g>\n     </g>\n    </g>\n    <g id=\"ytick_5\">\n     <g id=\"line2d_13\">\n      <g>\n       <use style=\"fill:#ffffff;stroke:#ffffff;stroke-width:0.8;\" x=\"26.925\" xlink:href=\"#m2452d53fd0\" y=\"160.957839\"/>\n      </g>\n     </g>\n     <g id=\"text_13\">\n      <!-- 40 -->\n      <g style=\"fill:#ffffff;\" transform=\"translate(7.2 164.757058)scale(0.1 -0.1)\">\n       <use xlink:href=\"#DejaVuSans-52\"/>\n       <use x=\"63.623047\" xlink:href=\"#DejaVuSans-48\"/>\n      </g>\n     </g>\n    </g>\n    <g id=\"ytick_6\">\n     <g id=\"line2d_14\">\n      <g>\n       <use style=\"fill:#ffffff;stroke:#ffffff;stroke-width:0.8;\" x=\"26.925\" xlink:href=\"#m2452d53fd0\" y=\"198.447495\"/>\n      </g>\n     </g>\n     <g id=\"text_14\">\n      <!-- 50 -->\n      <g style=\"fill:#ffffff;\" transform=\"translate(7.2 202.246713)scale(0.1 -0.1)\">\n       <defs>\n        <path d=\"M 10.796875 72.90625 \nL 49.515625 72.90625 \nL 49.515625 64.59375 \nL 19.828125 64.59375 \nL 19.828125 46.734375 \nQ 21.96875 47.46875 24.109375 47.828125 \nQ 26.265625 48.1875 28.421875 48.1875 \nQ 40.625 48.1875 47.75 41.5 \nQ 54.890625 34.8125 54.890625 23.390625 \nQ 54.890625 11.625 47.5625 5.09375 \nQ 40.234375 -1.421875 26.90625 -1.421875 \nQ 22.3125 -1.421875 17.546875 -0.640625 \nQ 12.796875 0.140625 7.71875 1.703125 \nL 7.71875 11.625 \nQ 12.109375 9.234375 16.796875 8.0625 \nQ 21.484375 6.890625 26.703125 6.890625 \nQ 35.15625 6.890625 40.078125 11.328125 \nQ 45.015625 15.765625 45.015625 23.390625 \nQ 45.015625 31 40.078125 35.4375 \nQ 35.15625 39.890625 26.703125 39.890625 \nQ 22.75 39.890625 18.8125 39.015625 \nQ 14.890625 38.140625 10.796875 36.28125 \nz\n\" id=\"DejaVuSans-53\"/>\n       </defs>\n       <use xlink:href=\"#DejaVuSans-53\"/>\n       <use x=\"63.623047\" xlink:href=\"#DejaVuSans-48\"/>\n      </g>\n     </g>\n    </g>\n   </g>\n   <g id=\"patch_3\">\n    <path d=\"M 26.925 226.564736 \nL 26.925 9.124736 \n\" style=\"fill:none;stroke:#ffffff;stroke-linecap:square;stroke-linejoin:miter;stroke-width:0.8;\"/>\n   </g>\n   <g id=\"patch_4\">\n    <path d=\"M 361.725 226.564736 \nL 361.725 9.124736 \n\" style=\"fill:none;stroke:#ffffff;stroke-linecap:square;stroke-linejoin:miter;stroke-width:0.8;\"/>\n   </g>\n   <g id=\"patch_5\">\n    <path d=\"M 26.925 226.564736 \nL 361.725 226.564736 \n\" style=\"fill:none;stroke:#ffffff;stroke-linecap:square;stroke-linejoin:miter;stroke-width:0.8;\"/>\n   </g>\n   <g id=\"patch_6\">\n    <path d=\"M 26.925 9.124736 \nL 361.725 9.124736 \n\" style=\"fill:none;stroke:#ffffff;stroke-linecap:square;stroke-linejoin:miter;stroke-width:0.8;\"/>\n   </g>\n  </g>\n </g>\n <defs>\n  <clipPath id=\"p376972bcbd\">\n   <rect height=\"217.44\" width=\"334.8\" x=\"26.925\" y=\"9.124736\"/>\n  </clipPath>\n </defs>\n</svg>\n",
      "image/png": "[encoded data removed]"
     },
     "metadata": {}
    }
   ],
   "source": [
    "plt.imshow(matrix, aspect=\"auto\")"
   ]
  },
  {
   "cell_type": "code",
   "execution_count": 182,
   "metadata": {},
   "outputs": [],
   "source": [
    "np.savez_compressed(file=\"./output/matrix_route_{}\".format(route_id), matrix = matrix, route_id = route_id, stops = routes_data[route_id])"
   ]
  },
  {
   "cell_type": "code",
   "execution_count": 154,
   "metadata": {},
   "outputs": [
    {
     "output_type": "execute_result",
     "data": {
      "text/plain": "(3364, 144)"
     },
     "metadata": {},
     "execution_count": 154
    }
   ],
   "source": [
    "matrix.shape"
   ]
  },
  {
   "cell_type": "code",
   "execution_count": 110,
   "metadata": {},
   "outputs": [
    {
     "output_type": "execute_result",
     "data": {
      "text/plain": "dict_keys(['12334', '12335', '12336', '12337', '12338', '12339', '12340', '12341', '12342', '12343', '12344', '12345', '12346', '12347', '12348', '12349', '12350', '12351', '12352', '12353', '12354', '12355', '12356', '12357', '12358', '12359', '12360', '12361', '12362', '12363', '12364', '12365', '12366', '12367', '12368', '12369', '12370', '12371', '12372', '12373', '12374', '12375', '12376', '12377', '12378', '12379', '12380', '12381', '12382', '12383', '12384', '12385', '12386', '12387', '12388', '12389', '12390', '12391', '12392'])"
     },
     "metadata": {},
     "execution_count": 110
    }
   ],
   "source": [
    "stop_tree[route_id].keys()"
   ]
  },
  {
   "cell_type": "code",
   "execution_count": 111,
   "metadata": {},
   "outputs": [],
   "source": [
    "data = tree[route_id][\"12334\"]\n",
    "keys = sorted(data.keys())\n",
    "gmap3 = gmplot.GoogleMapPlotter(lat =data[keys[0]][1] , lng = data[keys[0]][2], zoom=15)\n",
    "\n",
    "gmap3.marker(data[keys[0]][1], data[keys[0]][2], color=\"green\", title=keys[0])\n",
    "for e in keys[1:-1]:\n",
    "    gmap3.marker(data[e][1], data[e][2], color=\"blue\", title=e)\n",
    "\n",
    "gmap3.marker(data[keys[-1]][1], data[keys[-1]][2], color=\"red\", title=e)\n",
    "\n",
    "for e in routes_data[route_id]:\n",
    "    gmap3.marker(stops_data[e][0], stops_data[e][1], color=\"yellow\")\n",
    "\n",
    "\n",
    "gmap3.draw( \"output/map.html\" )"
   ]
  },
  {
   "cell_type": "code",
   "execution_count": 78,
   "metadata": {},
   "outputs": [
    {
     "output_type": "execute_result",
     "data": {
      "text/plain": "dict_keys(['12313', '12315', '12312', '12310', '12314', '12265', '12266', '12267', '12268', '12269', '12270', '12271', '12272', '12273', '12274', '12275', '12276', '12277', '12278', '12279', '12280', '12281', '12282', '12283', '12284', '12285', '12286', '12287', '12288', '12289', '12290', '12291', '12292', '12293', '12294', '12295', '12296', '12297', '12298', '12299', '12300', '12301', '12302', '12303', '12304', '12305', '12306', '12307', '12308', '12309', '12311', '12316', '12317', '12318', '12319', '12320', '12321', '12322', '12323', '12324', '12325', '12326'])"
     },
     "metadata": {},
     "execution_count": 78
    }
   ],
   "source": [
    "tree[route_id].keys()"
   ]
  },
  {
   "cell_type": "code",
   "execution_count": 29,
   "metadata": {
    "tags": []
   },
   "outputs": [
    {
     "output_type": "display_data",
     "data": {
      "text/plain": "HBox(children=(FloatProgress(value=0.0, max=1544.0), HTML(value='')))",
      "application/vnd.jupyter.widget-view+json": {
       "version_major": 2,
       "version_minor": 0,
       "model_id": "b76447697ada4ff689be88a49727cbd9"
      }
     },
     "metadata": {}
    },
    {
     "output_type": "stream",
     "name": "stdout",
     "text": "\n"
    }
   ],
   "source": [
    "total_routes = np.zeros(len(stops_data)*len(stops_data), dtype=bool)\n",
    "for each_route in tqdm(routes_data.values()):\n",
    "    for each_stop in each_route:\n",
    "        for each_stop2 in each_route:\n",
    "            total_routes[stops_data[each_stop][-1]*len(stops_data) + stops_data[each_stop2][-1]] = True"
   ]
  },
  {
   "cell_type": "code",
   "execution_count": 26,
   "metadata": {},
   "outputs": [],
   "source": [
    "total_routes = np.zeros(len(stops_data)*len(stops_data), dtype=bool)\n",
    "for each_stop in stops_data.values():\n",
    "    for each_stop2 in stops_data.values():\n",
    "        total_routes[each_stop[-1]*len(stops_data) + each_stop2[-1]] = True"
   ]
  },
  {
   "cell_type": "code",
   "execution_count": 31,
   "metadata": {},
   "outputs": [
    {
     "output_type": "execute_result",
     "data": {
      "text/plain": "789893"
     },
     "metadata": {},
     "execution_count": 31
    }
   ],
   "source": [
    "np.count_nonzero(total_routes)"
   ]
  },
  {
   "cell_type": "code",
   "execution_count": 11,
   "metadata": {},
   "outputs": [
    {
     "output_type": "execute_result",
     "data": {
      "text/plain": "(28.715917, 77.170867, '0', 'Adarsh Nagar / Bharola Village', 0)"
     },
     "metadata": {},
     "execution_count": 11
    }
   ],
   "source": [
    "stops_data[0]"
   ]
  },
  {
   "cell_type": "code",
   "execution_count": 130,
   "metadata": {},
   "outputs": [
    {
     "output_type": "execute_result",
     "data": {
      "text/plain": "1562437792"
     },
     "metadata": {},
     "execution_count": 130
    }
   ],
   "source": [
    " stop_tree[route_id][each_trip][start_stop][-1][0]"
   ]
  },
  {
   "cell_type": "code",
   "execution_count": 101,
   "metadata": {},
   "outputs": [
    {
     "output_type": "execute_result",
     "data": {
      "text/plain": "54"
     },
     "metadata": {},
     "execution_count": 101
    }
   ],
   "source": [
    "len(stop_tree[426]['12312'])"
   ]
  },
  {
   "cell_type": "code",
   "execution_count": 89,
   "metadata": {},
   "outputs": [
    {
     "output_type": "execute_result",
     "data": {
      "text/plain": "dict_keys(['12313', '12315', '12312', '12310', '12314', '12265', '12266', '12267', '12268', '12269', '12270', '12271', '12272', '12273', '12274', '12275', '12276', '12277', '12278', '12279', '12280', '12281', '12282', '12283', '12284', '12285', '12286', '12287', '12288', '12289', '12290', '12291', '12292', '12293', '12294', '12295', '12296', '12297', '12298', '12299', '12300', '12301', '12302', '12303', '12304', '12305', '12306', '12307', '12308', '12309', '12311', '12316', '12317', '12318', '12319', '12320', '12321', '12322', '12323', '12324', '12325', '12326'])"
     },
     "metadata": {},
     "execution_count": 89
    }
   ],
   "source": [
    "stop_tree[426].keys()"
   ]
  },
  {
   "cell_type": "code",
   "execution_count": null,
   "metadata": {},
   "outputs": [],
   "source": []
  }
 ]
}